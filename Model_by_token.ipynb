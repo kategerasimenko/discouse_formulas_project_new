{
 "cells": [
  {
   "cell_type": "code",
   "execution_count": 1,
   "metadata": {
    "collapsed": true
   },
   "outputs": [],
   "source": [
    "import numpy as np \n",
    "import pandas as pd\n",
    "from scipy.sparse import csr_matrix, hstack, vstack\n",
    "from sklearn.ensemble import RandomForestClassifier\n",
    "from sklearn.model_selection import train_test_split\n",
    "from sklearn.preprocessing import LabelEncoder, OneHotEncoder\n",
    "from sklearn.pipeline import Pipeline\n",
    "from sklearn.model_selection import StratifiedKFold, cross_val_predict\n",
    "from sklearn.metrics import classification_report, accuracy_score\n",
    "from sklearn.linear_model import RidgeClassifier\n",
    "from sklearn.svm import LinearSVC\n",
    "import time\n",
    "import pickle\n",
    "from sklearn.cluster import KMeans\n",
    "from sklearn.linear_model import LogisticRegressionCV, LogisticRegression\n",
    "\n",
    "seed = 42\n",
    "CONTEXT_WINDOW = (-5, 5)"
   ]
  },
  {
   "cell_type": "code",
   "execution_count": 2,
   "metadata": {
    "collapsed": false,
    "scrolled": false
   },
   "outputs": [
    {
     "data": {
      "text/html": [
       "<div>\n",
       "<style scoped>\n",
       "    .dataframe tbody tr th:only-of-type {\n",
       "        vertical-align: middle;\n",
       "    }\n",
       "\n",
       "    .dataframe tbody tr th {\n",
       "        vertical-align: top;\n",
       "    }\n",
       "\n",
       "    .dataframe thead th {\n",
       "        text-align: right;\n",
       "    }\n",
       "</style>\n",
       "<table border=\"1\" class=\"dataframe\">\n",
       "  <thead>\n",
       "    <tr style=\"text-align: right;\">\n",
       "      <th></th>\n",
       "      <th>Text_-5</th>\n",
       "      <th>Lemma_-5</th>\n",
       "      <th>POS_-5</th>\n",
       "      <th>Target_-5</th>\n",
       "      <th>Text_-4</th>\n",
       "      <th>Lemma_-4</th>\n",
       "      <th>POS_-4</th>\n",
       "      <th>Target_-4</th>\n",
       "      <th>Text_-3</th>\n",
       "      <th>Lemma_-3</th>\n",
       "      <th>...</th>\n",
       "      <th>POS_2</th>\n",
       "      <th>Text_3</th>\n",
       "      <th>Lemma_3</th>\n",
       "      <th>POS_3</th>\n",
       "      <th>Text_4</th>\n",
       "      <th>Lemma_4</th>\n",
       "      <th>POS_4</th>\n",
       "      <th>Text_5</th>\n",
       "      <th>Lemma_5</th>\n",
       "      <th>POS_5</th>\n",
       "    </tr>\n",
       "  </thead>\n",
       "  <tbody>\n",
       "    <tr>\n",
       "      <th>0</th>\n",
       "      <td></td>\n",
       "      <td></td>\n",
       "      <td></td>\n",
       "      <td></td>\n",
       "      <td></td>\n",
       "      <td></td>\n",
       "      <td></td>\n",
       "      <td></td>\n",
       "      <td></td>\n",
       "      <td></td>\n",
       "      <td>...</td>\n",
       "      <td>NOUN</td>\n",
       "      <td>воды</td>\n",
       "      <td>вода</td>\n",
       "      <td>NOUN</td>\n",
       "      <td>диалог</td>\n",
       "      <td>диалог</td>\n",
       "      <td>NOUN</td>\n",
       "      <td>москва</td>\n",
       "      <td>москва</td>\n",
       "      <td>NOUN</td>\n",
       "    </tr>\n",
       "    <tr>\n",
       "      <th>1</th>\n",
       "      <td></td>\n",
       "      <td></td>\n",
       "      <td></td>\n",
       "      <td></td>\n",
       "      <td></td>\n",
       "      <td></td>\n",
       "      <td></td>\n",
       "      <td></td>\n",
       "      <td></td>\n",
       "      <td></td>\n",
       "      <td>...</td>\n",
       "      <td>NOUN</td>\n",
       "      <td>диалог</td>\n",
       "      <td>диалог</td>\n",
       "      <td>NOUN</td>\n",
       "      <td>москва</td>\n",
       "      <td>москва</td>\n",
       "      <td>NOUN</td>\n",
       "      <td>,</td>\n",
       "      <td>,</td>\n",
       "      <td>PNCT</td>\n",
       "    </tr>\n",
       "    <tr>\n",
       "      <th>2</th>\n",
       "      <td></td>\n",
       "      <td></td>\n",
       "      <td></td>\n",
       "      <td></td>\n",
       "      <td></td>\n",
       "      <td></td>\n",
       "      <td></td>\n",
       "      <td></td>\n",
       "      <td></td>\n",
       "      <td></td>\n",
       "      <td>...</td>\n",
       "      <td>NOUN</td>\n",
       "      <td>москва</td>\n",
       "      <td>москва</td>\n",
       "      <td>NOUN</td>\n",
       "      <td>,</td>\n",
       "      <td>,</td>\n",
       "      <td>PNCT</td>\n",
       "      <td>изд-во</td>\n",
       "      <td>изд-в</td>\n",
       "      <td>PREP</td>\n",
       "    </tr>\n",
       "    <tr>\n",
       "      <th>3</th>\n",
       "      <td></td>\n",
       "      <td></td>\n",
       "      <td></td>\n",
       "      <td></td>\n",
       "      <td></td>\n",
       "      <td></td>\n",
       "      <td></td>\n",
       "      <td></td>\n",
       "      <td>л.петрушевская</td>\n",
       "      <td>л.петрушевский</td>\n",
       "      <td>...</td>\n",
       "      <td>NOUN</td>\n",
       "      <td>,</td>\n",
       "      <td>,</td>\n",
       "      <td>PNCT</td>\n",
       "      <td>изд-во</td>\n",
       "      <td>изд-в</td>\n",
       "      <td>PREP</td>\n",
       "      <td>``</td>\n",
       "      <td>``</td>\n",
       "      <td>UNKN</td>\n",
       "    </tr>\n",
       "    <tr>\n",
       "      <th>4</th>\n",
       "      <td></td>\n",
       "      <td></td>\n",
       "      <td></td>\n",
       "      <td></td>\n",
       "      <td>л.петрушевская</td>\n",
       "      <td>л.петрушевский</td>\n",
       "      <td>NOUN</td>\n",
       "      <td>O</td>\n",
       "      <td>.</td>\n",
       "      <td>.</td>\n",
       "      <td>...</td>\n",
       "      <td>PNCT</td>\n",
       "      <td>изд-во</td>\n",
       "      <td>изд-в</td>\n",
       "      <td>PREP</td>\n",
       "      <td>``</td>\n",
       "      <td>``</td>\n",
       "      <td>UNKN</td>\n",
       "      <td>искусство</td>\n",
       "      <td>искусство</td>\n",
       "      <td>NOUN</td>\n",
       "    </tr>\n",
       "  </tbody>\n",
       "</table>\n",
       "<p>5 rows × 40 columns</p>\n",
       "</div>"
      ],
      "text/plain": [
       "  Text_-5 Lemma_-5 POS_-5 Target_-5         Text_-4        Lemma_-4 POS_-4  \\\n",
       "0                                                                            \n",
       "1                                                                            \n",
       "2                                                                            \n",
       "3                                                                            \n",
       "4                                    л.петрушевская  л.петрушевский   NOUN   \n",
       "\n",
       "  Target_-4         Text_-3        Lemma_-3  ...  POS_2  Text_3 Lemma_3 POS_3  \\\n",
       "0                                            ...   NOUN    воды    вода  NOUN   \n",
       "1                                            ...   NOUN  диалог  диалог  NOUN   \n",
       "2                                            ...   NOUN  москва  москва  NOUN   \n",
       "3            л.петрушевская  л.петрушевский  ...   NOUN       ,       ,  PNCT   \n",
       "4         O               .               .  ...   PNCT  изд-во   изд-в  PREP   \n",
       "\n",
       "   Text_4 Lemma_4 POS_4     Text_5    Lemma_5 POS_5  \n",
       "0  диалог  диалог  NOUN     москва     москва  NOUN  \n",
       "1  москва  москва  NOUN          ,          ,  PNCT  \n",
       "2       ,       ,  PNCT     изд-во      изд-в  PREP  \n",
       "3  изд-во   изд-в  PREP         ``         ``  UNKN  \n",
       "4      ``      ``  UNKN  искусство  искусство  NOUN  \n",
       "\n",
       "[5 rows x 40 columns]"
      ]
     },
     "execution_count": 2,
     "metadata": {},
     "output_type": "execute_result"
    }
   ],
   "source": [
    "data = pd.read_csv('train_data.csv', encoding = 'utf-8-sig', sep = ',',index_col=0)\n",
    "data = data.fillna('')\n",
    "data.head()"
   ]
  },
  {
   "cell_type": "code",
   "execution_count": 3,
   "metadata": {
    "collapsed": false
   },
   "outputs": [],
   "source": [
    "target = pd.read_csv('train_target.csv',encoding = 'utf-8-sig', sep = ';' )\n",
    "y = np.array(target['Target']).reshape(-1,)"
   ]
  },
  {
   "cell_type": "code",
   "execution_count": 4,
   "metadata": {
    "collapsed": false,
    "scrolled": true
   },
   "outputs": [
    {
     "data": {
      "text/plain": [
       "((4982, 40), (0, 40))"
      ]
     },
     "execution_count": 4,
     "metadata": {},
     "output_type": "execute_result"
    }
   ],
   "source": [
    "# в качестве теста - взять несколько текстов\n",
    "test_texts = {'Puzhaeva_Гоголь. Игроки.txt',\n",
    "             'Petrushevskaya_uroki_muzyki_ev_prov.txt',\n",
    "             'Yad_EV_prov.txt'}\n",
    "criterion = data['Text_id'].map(lambda x: x in test_texts)\n",
    "test_indices = data[criterion].index.tolist()\n",
    "X_test = data.loc[test_indices,:]\n",
    "y_test = np.array(target.loc[test_indices,:]).reshape(-1,)\n",
    "X_train = data.drop(test_indices)\n",
    "y_train = np.array(target.drop(test_indices)).reshape(-1,)\n",
    "X_train.shape, X_test.shape"
   ]
  },
  {
   "cell_type": "code",
   "execution_count": 5,
   "metadata": {
    "collapsed": false
   },
   "outputs": [
    {
     "data": {
      "text/plain": [
       "str"
      ]
     },
     "execution_count": 5,
     "metadata": {},
     "output_type": "execute_result"
    }
   ],
   "source": [
    "type(data.iloc[0]['Text_-5'])"
   ]
  },
  {
   "cell_type": "code",
   "execution_count": 6,
   "metadata": {
    "collapsed": true
   },
   "outputs": [],
   "source": [
    "def vectorize(data,X_train,X_test,colname):\n",
    "    print(colname)\n",
    "    label_enc = LabelEncoder()\n",
    "    onehot_enc = OneHotEncoder()\n",
    "    if colname == 'Target':\n",
    "        label_data = label_enc.fit_transform(['B','I','L','O','U',''])\n",
    "        cols_to_transform = [colname+'_'+str(i) for i in range(CONTEXT_WINDOW[0],0)]\n",
    "    else:\n",
    "        label_data = label_enc.fit_transform(list(data[colname].unique())+[''])\n",
    "        cols_to_transform = [colname] + [colname+'_'+str(i) for i in range(CONTEXT_WINDOW[0],CONTEXT_WINDOW[1]+1) if i]\n",
    "    onehot_enc.fit(label_data.reshape(-1, 1))\n",
    "    #count_train = hstack([onehot_enc.transform(label_enc.transform(X_train[col]).reshape(-1, 1)) for col in cols_to_transform])\n",
    "    #count_test = hstack([onehot_enc.transform(label_enc.transform(X_test[col]).reshape(-1, 1)) for col in cols_to_transform])\n",
    "    count_texts = hstack([onehot_enc.transform(label_enc.transform(data[col]).reshape(-1, 1)) for col in cols_to_transform])\n",
    "    return [count_texts] #,count_train,count_test"
   ]
  },
  {
   "cell_type": "code",
   "execution_count": 11,
   "metadata": {
    "collapsed": false,
    "scrolled": true
   },
   "outputs": [
    {
     "name": "stdout",
     "output_type": "stream",
     "text": [
      "Text\n",
      "Lemma\n",
      "POS\n",
      "Target\n"
     ]
    },
    {
     "data": {
      "text/plain": [
       "(4982, 29433)"
      ]
     },
     "execution_count": 11,
     "metadata": {},
     "output_type": "execute_result"
    }
   ],
   "source": [
    "cols_to_vect = ['Text','Lemma','POS','Target']\n",
    "sparse_data = [vectorize(data,X_train,X_test,x) for x in cols_to_vect]\n",
    "data_vect = hstack([x[0] for x in sparse_data]+[np.array(data['Word_num'])[:,None]])\n",
    "#train_vect = hstack([x[1] for x in sparse_data]+csr_matrix(X_train['Word_num']))\n",
    "#test_vect = hstack([x[2] for x in sparse_data]+csr_matrix(X_test['Word_num']))\n",
    "data_vect.shape #,train_vect.shape,test_vect.shape"
   ]
  },
  {
   "cell_type": "code",
   "execution_count": 9,
   "metadata": {
    "collapsed": true
   },
   "outputs": [],
   "source": [
    "# кроссвалидация по пяти фолдам\n",
    "skf = StratifiedKFold(n_splits = 5, random_state = seed)"
   ]
  },
  {
   "cell_type": "code",
   "execution_count": 12,
   "metadata": {
    "collapsed": false
   },
   "outputs": [
    {
     "name": "stderr",
     "output_type": "stream",
     "text": [
      "[Parallel(n_jobs=1)]: Done   1 out of   1 | elapsed:    0.1s remaining:    0.0s\n",
      "[Parallel(n_jobs=1)]: Done   2 out of   2 | elapsed:    0.2s remaining:    0.0s\n",
      "[Parallel(n_jobs=1)]: Done   3 out of   3 | elapsed:    0.4s remaining:    0.0s\n",
      "[Parallel(n_jobs=1)]: Done   4 out of   4 | elapsed:    0.5s remaining:    0.0s\n"
     ]
    },
    {
     "name": "stdout",
     "output_type": "stream",
     "text": [
      "Accuracy:\n",
      "0.9995985547972702\n",
      "             precision    recall  f1-score   support\n",
      "\n",
      "          B       1.00      0.86      0.92         7\n",
      "          I       1.00      1.00      1.00         9\n",
      "          L       1.00      0.86      0.92         7\n",
      "          O       1.00      1.00      1.00      4959\n",
      "\n",
      "avg / total       1.00      1.00      1.00      4982\n",
      "\n"
     ]
    },
    {
     "name": "stderr",
     "output_type": "stream",
     "text": [
      "[Parallel(n_jobs=1)]: Done   5 out of   5 | elapsed:    0.7s finished\n"
     ]
    }
   ],
   "source": [
    "logit = LogisticRegression(random_state=seed)\n",
    "cv_logit = cross_val_predict(logit, data_vect, y, cv = skf, verbose = 5)\n",
    "print('Accuracy:')\n",
    "print(accuracy_score(y, cv_logit))\n",
    "print(classification_report(y, cv_logit))"
   ]
  }
 ],
 "metadata": {
  "anaconda-cloud": {},
  "kernelspec": {
   "display_name": "Python [conda env:python36]",
   "language": "python",
   "name": "conda-env-python36-py"
  },
  "language_info": {
   "codemirror_mode": {
    "name": "ipython",
    "version": 3
   },
   "file_extension": ".py",
   "mimetype": "text/x-python",
   "name": "python",
   "nbconvert_exporter": "python",
   "pygments_lexer": "ipython3",
   "version": "3.6.3"
  }
 },
 "nbformat": 4,
 "nbformat_minor": 1
}
